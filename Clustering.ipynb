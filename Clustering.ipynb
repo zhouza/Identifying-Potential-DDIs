{
 "cells": [
  {
   "cell_type": "code",
   "execution_count": 6,
   "metadata": {},
   "outputs": [],
   "source": [
    "import pymongo\n",
    "import pandas\n",
    "from pymongo import MongoClient\n",
    "client = MongoClient('mongodb://xx:xx@xx/drugbank')\n",
    "db = client.drugbank"
   ]
  },
  {
   "cell_type": "code",
   "execution_count": 16,
   "metadata": {},
   "outputs": [
    {
     "data": {
      "text/plain": [
       "['drugs', 'drugs_sub', 'drugs_int', 'drugs_unnst', 'drugs_targets']"
      ]
     },
     "execution_count": 16,
     "metadata": {},
     "output_type": "execute_result"
    }
   ],
   "source": [
    "db.collection_names()"
   ]
  },
  {
   "cell_type": "code",
   "execution_count": 18,
   "metadata": {},
   "outputs": [],
   "source": [
    "drugs_targets = db.drugs_targets"
   ]
  },
  {
   "cell_type": "code",
   "execution_count": 44,
   "metadata": {},
   "outputs": [
    {
     "data": {
      "text/html": [
       "<div>\n",
       "<style scoped>\n",
       "    .dataframe tbody tr th:only-of-type {\n",
       "        vertical-align: middle;\n",
       "    }\n",
       "\n",
       "    .dataframe tbody tr th {\n",
       "        vertical-align: top;\n",
       "    }\n",
       "\n",
       "    .dataframe thead th {\n",
       "        text-align: right;\n",
       "    }\n",
       "</style>\n",
       "<table border=\"1\" class=\"dataframe\">\n",
       "  <thead>\n",
       "    <tr style=\"text-align: right;\">\n",
       "      <th></th>\n",
       "      <th>category</th>\n",
       "      <th>class</th>\n",
       "      <th>drug_id</th>\n",
       "      <th>drug_name</th>\n",
       "      <th>kingdom</th>\n",
       "      <th>parent</th>\n",
       "      <th>subclass</th>\n",
       "      <th>superclass</th>\n",
       "      <th>target</th>\n",
       "    </tr>\n",
       "  </thead>\n",
       "  <tbody>\n",
       "    <tr>\n",
       "      <th>0</th>\n",
       "      <td>Amino Acids, Peptides, and Proteins</td>\n",
       "      <td>Carboxylic Acids and Derivatives</td>\n",
       "      <td>DB00001</td>\n",
       "      <td>Lepirudin</td>\n",
       "      <td>Organic Compounds</td>\n",
       "      <td>Peptides</td>\n",
       "      <td>Amino Acids, Peptides, and Analogues</td>\n",
       "      <td>Organic Acids</td>\n",
       "      <td>[BE0000048_inhibitor, BE0000048, Prothrombin, ...</td>\n",
       "    </tr>\n",
       "    <tr>\n",
       "      <th>1</th>\n",
       "      <td>Anti-coagulant</td>\n",
       "      <td>Carboxylic Acids and Derivatives</td>\n",
       "      <td>DB00001</td>\n",
       "      <td>Lepirudin</td>\n",
       "      <td>Organic Compounds</td>\n",
       "      <td>Peptides</td>\n",
       "      <td>Amino Acids, Peptides, and Analogues</td>\n",
       "      <td>Organic Acids</td>\n",
       "      <td>[BE0000048_inhibitor, BE0000048, Prothrombin, ...</td>\n",
       "    </tr>\n",
       "    <tr>\n",
       "      <th>2</th>\n",
       "      <td>Anticoagulants</td>\n",
       "      <td>Carboxylic Acids and Derivatives</td>\n",
       "      <td>DB00001</td>\n",
       "      <td>Lepirudin</td>\n",
       "      <td>Organic Compounds</td>\n",
       "      <td>Peptides</td>\n",
       "      <td>Amino Acids, Peptides, and Analogues</td>\n",
       "      <td>Organic Acids</td>\n",
       "      <td>[BE0000048_inhibitor, BE0000048, Prothrombin, ...</td>\n",
       "    </tr>\n",
       "    <tr>\n",
       "      <th>3</th>\n",
       "      <td>Antithrombin Proteins</td>\n",
       "      <td>Carboxylic Acids and Derivatives</td>\n",
       "      <td>DB00001</td>\n",
       "      <td>Lepirudin</td>\n",
       "      <td>Organic Compounds</td>\n",
       "      <td>Peptides</td>\n",
       "      <td>Amino Acids, Peptides, and Analogues</td>\n",
       "      <td>Organic Acids</td>\n",
       "      <td>[BE0000048_inhibitor, BE0000048, Prothrombin, ...</td>\n",
       "    </tr>\n",
       "    <tr>\n",
       "      <th>4</th>\n",
       "      <td>Antithrombins</td>\n",
       "      <td>Carboxylic Acids and Derivatives</td>\n",
       "      <td>DB00001</td>\n",
       "      <td>Lepirudin</td>\n",
       "      <td>Organic Compounds</td>\n",
       "      <td>Peptides</td>\n",
       "      <td>Amino Acids, Peptides, and Analogues</td>\n",
       "      <td>Organic Acids</td>\n",
       "      <td>[BE0000048_inhibitor, BE0000048, Prothrombin, ...</td>\n",
       "    </tr>\n",
       "  </tbody>\n",
       "</table>\n",
       "</div>"
      ],
      "text/plain": [
       "                              category                             class  \\\n",
       "0  Amino Acids, Peptides, and Proteins  Carboxylic Acids and Derivatives   \n",
       "1                       Anti-coagulant  Carboxylic Acids and Derivatives   \n",
       "2                       Anticoagulants  Carboxylic Acids and Derivatives   \n",
       "3                Antithrombin Proteins  Carboxylic Acids and Derivatives   \n",
       "4                        Antithrombins  Carboxylic Acids and Derivatives   \n",
       "\n",
       "   drug_id  drug_name            kingdom    parent  \\\n",
       "0  DB00001  Lepirudin  Organic Compounds  Peptides   \n",
       "1  DB00001  Lepirudin  Organic Compounds  Peptides   \n",
       "2  DB00001  Lepirudin  Organic Compounds  Peptides   \n",
       "3  DB00001  Lepirudin  Organic Compounds  Peptides   \n",
       "4  DB00001  Lepirudin  Organic Compounds  Peptides   \n",
       "\n",
       "                               subclass     superclass  \\\n",
       "0  Amino Acids, Peptides, and Analogues  Organic Acids   \n",
       "1  Amino Acids, Peptides, and Analogues  Organic Acids   \n",
       "2  Amino Acids, Peptides, and Analogues  Organic Acids   \n",
       "3  Amino Acids, Peptides, and Analogues  Organic Acids   \n",
       "4  Amino Acids, Peptides, and Analogues  Organic Acids   \n",
       "\n",
       "                                              target  \n",
       "0  [BE0000048_inhibitor, BE0000048, Prothrombin, ...  \n",
       "1  [BE0000048_inhibitor, BE0000048, Prothrombin, ...  \n",
       "2  [BE0000048_inhibitor, BE0000048, Prothrombin, ...  \n",
       "3  [BE0000048_inhibitor, BE0000048, Prothrombin, ...  \n",
       "4  [BE0000048_inhibitor, BE0000048, Prothrombin, ...  "
      ]
     },
     "execution_count": 44,
     "metadata": {},
     "output_type": "execute_result"
    }
   ],
   "source": [
    "data_targets = drugs_targets.find({},{'_id':0})\n",
    "import pandas as pd\n",
    "df = pd.DataFrame(list(data_targets))\n",
    "df.head()"
   ]
  },
  {
   "cell_type": "code",
   "execution_count": 45,
   "metadata": {},
   "outputs": [
    {
     "name": "stdout",
     "output_type": "stream",
     "text": [
      "<class 'pandas.core.frame.DataFrame'>\n",
      "RangeIndex: 99069 entries, 0 to 99068\n",
      "Data columns (total 9 columns):\n",
      "category      92910 non-null object\n",
      "class         95341 non-null object\n",
      "drug_id       99069 non-null object\n",
      "drug_name     99069 non-null object\n",
      "kingdom       95439 non-null object\n",
      "parent        95439 non-null object\n",
      "subclass      72040 non-null object\n",
      "superclass    95439 non-null object\n",
      "target        99069 non-null object\n",
      "dtypes: object(9)\n",
      "memory usage: 6.8+ MB\n"
     ]
    }
   ],
   "source": [
    "df.info()"
   ]
  },
  {
   "cell_type": "code",
   "execution_count": 46,
   "metadata": {},
   "outputs": [],
   "source": [
    "df['category'].fillna(df['drug_id'],inplace=True)\n",
    "df['class'].fillna(df['drug_id'],inplace=True)\n",
    "df['kingdom'].fillna(df['drug_id'],inplace=True)\n",
    "df['parent'].fillna(df['drug_id'],inplace=True)\n",
    "df['subclass'].fillna(df['drug_id'],inplace=True)\n",
    "df['superclass'].fillna(df['drug_id'],inplace=True)\n",
    "\n",
    "# nulls => drug_id because nulls are important but shouldn't be grouped together"
   ]
  },
  {
   "cell_type": "code",
   "execution_count": 47,
   "metadata": {},
   "outputs": [
    {
     "name": "stdout",
     "output_type": "stream",
     "text": [
      "<class 'pandas.core.frame.DataFrame'>\n",
      "RangeIndex: 99069 entries, 0 to 99068\n",
      "Data columns (total 9 columns):\n",
      "category      99069 non-null object\n",
      "class         99069 non-null object\n",
      "drug_id       99069 non-null object\n",
      "drug_name     99069 non-null object\n",
      "kingdom       99069 non-null object\n",
      "parent        99069 non-null object\n",
      "subclass      99069 non-null object\n",
      "superclass    99069 non-null object\n",
      "target        99069 non-null object\n",
      "dtypes: object(9)\n",
      "memory usage: 6.8+ MB\n"
     ]
    }
   ],
   "source": [
    "df.info()"
   ]
  },
  {
   "cell_type": "code",
   "execution_count": 48,
   "metadata": {
    "scrolled": false
   },
   "outputs": [],
   "source": [
    "list_target_action_ids = [x[0] for x in df['target']]\n",
    "list_target_ids = [x[1] for x in df['target']]\n",
    "list_target_names = [x[2] for x in df['target']]\n",
    "list_target_actions = [x[3] for x in df['target']]"
   ]
  },
  {
   "cell_type": "code",
   "execution_count": 49,
   "metadata": {
    "scrolled": true
   },
   "outputs": [
    {
     "name": "stdout",
     "output_type": "stream",
     "text": [
      "<class 'pandas.core.frame.DataFrame'>\n",
      "RangeIndex: 99069 entries, 0 to 99068\n",
      "Data columns (total 4 columns):\n",
      "target_action       17842 non-null object\n",
      "target_action_id    99069 non-null object\n",
      "target_id           99069 non-null object\n",
      "target_name         99069 non-null object\n",
      "dtypes: object(4)\n",
      "memory usage: 3.0+ MB\n"
     ]
    }
   ],
   "source": [
    "df_targets = pd.DataFrame({'target_action_id':list_target_action_ids,\n",
    "                           'target_id':list_target_ids,\n",
    "                           'target_name':list_target_names,\n",
    "                           'target_action':list_target_actions})\n",
    "\n",
    "df_targets.info()"
   ]
  },
  {
   "cell_type": "code",
   "execution_count": 51,
   "metadata": {},
   "outputs": [],
   "source": [
    "df = df.join(df_targets)\n",
    "df.drop(columns=['target','target_action_id'],inplace=True)\n",
    "df['target_action'].fillna(df['drug_id'],inplace=True)\n",
    "df['target_action_id'] = df['target_id'].values+'_'+df['target_action'].values\n",
    "df.drop(columns=['target_id','target_name','target_action'],inplace=True)"
   ]
  },
  {
   "cell_type": "code",
   "execution_count": 63,
   "metadata": {},
   "outputs": [],
   "source": [
    "df.to_pickle('pickles/df.pkl')"
   ]
  },
  {
   "cell_type": "code",
   "execution_count": null,
   "metadata": {},
   "outputs": [],
   "source": []
  }
 ],
 "metadata": {
  "kernelspec": {
   "display_name": "Python 3",
   "language": "python",
   "name": "python3"
  },
  "language_info": {
   "codemirror_mode": {
    "name": "ipython",
    "version": 3
   },
   "file_extension": ".py",
   "mimetype": "text/x-python",
   "name": "python",
   "nbconvert_exporter": "python",
   "pygments_lexer": "ipython3",
   "version": "3.6.5"
  }
 },
 "nbformat": 4,
 "nbformat_minor": 2
}
